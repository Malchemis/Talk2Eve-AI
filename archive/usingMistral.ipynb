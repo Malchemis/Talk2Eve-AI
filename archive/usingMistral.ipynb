{
 "cells": [
  {
   "metadata": {},
   "cell_type": "markdown",
   "source": "# Mistral API",
   "id": "9ec813c6e75f3ec6"
  },
  {
   "metadata": {
    "ExecuteTime": {
     "end_time": "2024-06-03T14:21:18.906265Z",
     "start_time": "2024-06-03T14:21:18.901049Z"
    }
   },
   "cell_type": "code",
   "source": [
    "# %pip install transformers\n",
    "# %pip install mistral-common\n",
    "# %pip install mistral-inference"
   ],
   "id": "4cff97011989798e",
   "outputs": [],
   "execution_count": 3
  },
  {
   "metadata": {
    "ExecuteTime": {
     "end_time": "2024-06-03T14:21:19.181275Z",
     "start_time": "2024-06-03T14:21:19.173869Z"
    }
   },
   "cell_type": "code",
   "source": [
    "# Load token from text file\n",
    "with open(\"hub-token\", \"r\") as file:\n",
    "    token = file.read()"
   ],
   "id": "29e49f15ea35a0c5",
   "outputs": [],
   "execution_count": 4
  },
  {
   "metadata": {
    "ExecuteTime": {
     "end_time": "2024-06-03T14:21:19.481707Z",
     "start_time": "2024-06-03T14:21:19.476130Z"
    }
   },
   "cell_type": "code",
   "source": [
    "import os\n",
    "os.environ['HF_HOME'] = '.'\n",
    "os.environ['HF_HUB_DISABLE_SYMLINKS_WARNING'] = '1'"
   ],
   "id": "278b2f0987e0715b",
   "outputs": [],
   "execution_count": 5
  },
  {
   "metadata": {
    "ExecuteTime": {
     "end_time": "2024-06-03T15:05:15.961766Z",
     "start_time": "2024-06-03T15:05:15.952768Z"
    }
   },
   "cell_type": "code",
   "source": [
    "from huggingface_hub import snapshot_download\n",
    "from pathlib import Path\n",
    "\n",
    "mistral_models_path = 'mistral_models/7B-Instruct-v0.3'\n",
    "# mistral_models_path.mkdir(parents=True, exist_ok=True)\n",
    "\n",
    "# snapshot_download(repo_id=\"mistralai/Mistral-7B-Instruct-v0.3\", allow_patterns=[\"params.json\", \"consolidated.safetensors\", \"tokenizer.model.v3\"], local_dir=mistral_models_path, token=token)"
   ],
   "id": "539398e185ccdf49",
   "outputs": [],
   "execution_count": 11
  },
  {
   "metadata": {
    "ExecuteTime": {
     "end_time": "2024-06-03T14:53:57.103901Z",
     "start_time": "2024-06-03T14:53:41.092314Z"
    }
   },
   "cell_type": "code",
   "source": "!mistral-chat mistral_models/7B-Instruct-v0.3 --instruct --max_tokens 256",
   "id": "3ca6015a293f5005",
   "outputs": [],
   "execution_count": 10
  },
  {
   "cell_type": "code",
   "id": "initial_id",
   "metadata": {
    "collapsed": true,
    "jupyter": {
     "is_executing": true
    },
    "ExecuteTime": {
     "start_time": "2024-06-03T15:05:18.734751Z"
    }
   },
   "source": [
    "from mistral_common.protocol.instruct.tool_calls import Function, Tool\n",
    "from mistral_inference.model import Transformer\n",
    "from mistral_inference.generate import generate\n",
    "\n",
    "from mistral_common.tokens.tokenizers.mistral import MistralTokenizer\n",
    "from mistral_common.protocol.instruct.messages import UserMessage\n",
    "from mistral_common.protocol.instruct.request import ChatCompletionRequest\n",
    "\n",
    "\n",
    "tokenizer = MistralTokenizer.from_file(f\"{mistral_models_path}/tokenizer.model.v3\")\n",
    "model = Transformer.from_folder(mistral_models_path)\n",
    "\n",
    "completion_request = ChatCompletionRequest(\n",
    "    tools=[\n",
    "        Tool(\n",
    "            function=Function(\n",
    "                name=\"get_current_weather\",\n",
    "                description=\"Get the current weather\",\n",
    "                parameters={\n",
    "                    \"type\": \"object\",\n",
    "                    \"properties\": {\n",
    "                        \"location\": {\n",
    "                            \"type\": \"string\",\n",
    "                            \"description\": \"The city and state, e.g. San Francisco, CA\",\n",
    "                        },\n",
    "                        \"format\": {\n",
    "                            \"type\": \"string\",\n",
    "                            \"enum\": [\"celsius\", \"fahrenheit\"],\n",
    "                            \"description\": \"The temperature unit to use. Infer this from the users location.\",\n",
    "                        },\n",
    "                    },\n",
    "                    \"required\": [\"location\", \"format\"],\n",
    "                },\n",
    "            )\n",
    "        )\n",
    "    ],\n",
    "    messages=[\n",
    "        UserMessage(content=\"What's the weather like today in Paris?\"),\n",
    "        ],\n",
    ")\n",
    "\n",
    "tokens = tokenizer.encode_chat_completion(completion_request).tokens\n",
    "\n",
    "out_tokens, _ = generate([tokens], model, max_tokens=64, temperature=0.0, eos_id=tokenizer.instruct_tokenizer.tokenizer.eos_id)\n",
    "result = tokenizer.instruct_tokenizer.tokenizer.decode(out_tokens[0])\n",
    "\n",
    "print(result)"
   ],
   "outputs": [],
   "execution_count": null
  },
  {
   "metadata": {},
   "cell_type": "code",
   "source": "",
   "id": "cad7b680351cceb7",
   "outputs": [],
   "execution_count": null
  }
 ],
 "metadata": {
  "kernelspec": {
   "display_name": "Python 3",
   "language": "python",
   "name": "python3"
  },
  "language_info": {
   "codemirror_mode": {
    "name": "ipython",
    "version": 2
   },
   "file_extension": ".py",
   "mimetype": "text/x-python",
   "name": "python",
   "nbconvert_exporter": "python",
   "pygments_lexer": "ipython2",
   "version": "2.7.6"
  }
 },
 "nbformat": 4,
 "nbformat_minor": 5
}
