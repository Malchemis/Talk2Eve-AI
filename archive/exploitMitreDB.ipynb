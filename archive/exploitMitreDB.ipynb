{
 "cells": [
  {
   "metadata": {},
   "cell_type": "markdown",
   "source": "# How to vectorize MITRE ATT&CK Knowledge Database",
   "id": "56775fbeabc4b882"
  },
  {
   "metadata": {
    "ExecuteTime": {
     "end_time": "2024-06-08T21:29:45.974075Z",
     "start_time": "2024-06-08T21:29:45.970319Z"
    }
   },
   "cell_type": "code",
   "source": "import json",
   "id": "410bb4b673a1c07f",
   "outputs": [],
   "execution_count": 51
  },
  {
   "metadata": {
    "ExecuteTime": {
     "end_time": "2024-06-08T21:29:46.028146Z",
     "start_time": "2024-06-08T21:29:46.016190Z"
    }
   },
   "cell_type": "code",
   "source": [
    "# Let's try to open one Enterprise json document\n",
    "with open('/media/basic/CYBERTRON/data/MITRE/enterprise_attack/attack-pattern.json') as f:\n",
    "    # read the first line and then convert it to json\n",
    "    data = json.loads(f.readline())\n",
    "print(data)"
   ],
   "id": "9f78453e479ee808",
   "outputs": [
    {
     "name": "stdout",
     "output_type": "stream",
     "text": [
      "{'type': 'attack-pattern', 'id': 'attack-pattern--3a32740a-11b0-4bcf-b0a9-3abd0f6d3cd5', 'created_by_ref': 'identity--c78cb6e5-0c4b-4611-8297-d1b8b55e40b5', 'created': '2024-03-29T18:07:04.743Z', 'modified': '2024-04-10T16:05:22.456Z', 'name': 'AutoHotKey & AutoIT', 'description': \"Adversaries may execute commands and perform malicious tasks using AutoIT and AutoHotKey automation scripts. AutoIT and AutoHotkey (AHK) are scripting languages that enable users to automate Windows tasks. These automation scripts can be used to perform a wide variety of actions, such as clicking on buttons, entering text, and opening and closing programs.(Citation: AutoIT)(Citation: AutoHotKey)\\n\\nAdversaries may use AHK (`.ahk`) and AutoIT (`.au3`) scripts to execute malicious code on a victim's system. For example, adversaries have used for AHK to execute payloads and other modular malware such as keyloggers. Adversaries have also used custom AHK files containing embedded malware as [Phishing](https://attack.mitre.org/techniques/T1566) payloads.(Citation: Splunk DarkGate)\\n\\nThese scripts may also be compiled into self-contained exectuable payloads (`.exe`).(Citation: AutoIT)(Citation: AutoHotKey)\", 'kill_chain_phases': [{'kill_chain_name': 'mitre-attack', 'phase_name': 'execution'}], 'external_references': [{'source_name': 'mitre-attack', 'url': 'https://attack.mitre.org/techniques/T1059/010', 'external_id': 'T1059.010'}, {'source_name': 'AutoHotKey', 'description': 'AutoHotkey Foundation LLC. (n.d.). Using the Program. Retrieved March 29, 2024.', 'url': 'https://www.autohotkey.com/docs/v1/Program.htm'}, {'source_name': 'AutoIT', 'description': 'AutoIT. (n.d.). Running Scripts. Retrieved March 29, 2024.', 'url': 'https://www.autoitscript.com/autoit3/docs/intro/running.htm'}, {'source_name': 'Splunk DarkGate', 'description': 'Splunk Threat Research Team. (2024, January 17). Enter The Gates: An Analysis of the DarkGate AutoIt Loader. Retrieved March 29, 2024.', 'url': 'https://www.splunk.com/en_us/blog/security/enter-the-gates-an-analysis-of-the-darkgate-autoit-loader.html'}], 'object_marking_refs': ['marking-definition--fa42a846-8d90-4e51-bc29-71d5b4802168'], 'x_mitre_attack_spec_version': '3.2.0', 'x_mitre_contributors': ['TruKno', 'Liran Ravich, CardinalOps', 'Serhii Melnyk, Trustwave SpiderLabs', 'Rahmat Nurfauzi, @infosecn1nja, PT Xynexis International', 'Monty'], 'x_mitre_data_sources': ['Process: Process Creation', 'Command: Command Execution'], 'x_mitre_deprecated': False, 'x_mitre_detection': '', 'x_mitre_domains': ['enterprise-attack'], 'x_mitre_is_subtechnique': True, 'x_mitre_modified_by_ref': 'identity--c78cb6e5-0c4b-4611-8297-d1b8b55e40b5', 'x_mitre_platforms': ['Windows'], 'x_mitre_remote_support': False, 'x_mitre_version': '1.0'}\n"
     ]
    }
   ],
   "execution_count": 52
  },
  {
   "metadata": {},
   "cell_type": "markdown",
   "source": [
    "Interesting fields:\n",
    "- type (str)\n",
    "- id (str)\n",
    "- name (str)\n",
    "- description (str)\n",
    "- x_mitre_platforms (list)"
   ],
   "id": "6e9666854f5c2be0"
  },
  {
   "metadata": {
    "ExecuteTime": {
     "end_time": "2024-06-08T21:29:46.081414Z",
     "start_time": "2024-06-08T21:29:46.030590Z"
    }
   },
   "cell_type": "code",
   "source": [
    "# Each line is a json document, let's get all of them in a list\n",
    "data = []\n",
    "with open('/media/basic/CYBERTRON/data/MITRE/enterprise_attack/attack-pattern.json') as f:\n",
    "    for line in f:\n",
    "        data.append(json.loads(line))\n",
    "print(len(data))"
   ],
   "id": "afebf945b0196793",
   "outputs": [
    {
     "name": "stdout",
     "output_type": "stream",
     "text": [
      "780\n"
     ]
    }
   ],
   "execution_count": 53
  },
  {
   "metadata": {
    "ExecuteTime": {
     "end_time": "2024-06-08T21:29:46.108675Z",
     "start_time": "2024-06-08T21:29:46.083335Z"
    }
   },
   "cell_type": "code",
   "source": [
    "# add it to a pandas dataframe\n",
    "import pandas as pd\n",
    "interesting_fields = ['type', 'id', 'name', 'description', 'x_mitre_platforms']\n",
    "\n",
    "df = pd.DataFrame(data)[interesting_fields]\n",
    "df.head()"
   ],
   "id": "5b2ed3174a4bbb13",
   "outputs": [
    {
     "data": {
      "text/plain": [
       "             type                                                 id  \\\n",
       "0  attack-pattern  attack-pattern--3a32740a-11b0-4bcf-b0a9-3abd0f...   \n",
       "1  attack-pattern  attack-pattern--09b008a9-b4eb-462a-a751-a0eb58...   \n",
       "2  attack-pattern  attack-pattern--0d91b3c0-5e50-47c3-949a-2a796f...   \n",
       "3  attack-pattern  attack-pattern--356662f7-e315-4759-86c9-6214e2...   \n",
       "4  attack-pattern  attack-pattern--149b477f-f364-4824-b1b5-aa1d56...   \n",
       "\n",
       "                     name                                        description  \\\n",
       "0     AutoHotKey & AutoIT  Adversaries may execute commands and perform m...   \n",
       "1    File/Path Exclusions  Adversaries may attempt to hide their file-bas...   \n",
       "2  Encrypted/Encoded File  Adversaries may encrypt or encode files to obf...   \n",
       "3        AppDomainManager  Adversaries may execute their own malicious pa...   \n",
       "4         Network Devices  Adversaries may compromise third-party network...   \n",
       "\n",
       "         x_mitre_platforms  \n",
       "0                [Windows]  \n",
       "1  [Linux, macOS, Windows]  \n",
       "2  [Linux, macOS, Windows]  \n",
       "3                [Windows]  \n",
       "4                    [PRE]  "
      ],
      "text/html": [
       "<div>\n",
       "<style scoped>\n",
       "    .dataframe tbody tr th:only-of-type {\n",
       "        vertical-align: middle;\n",
       "    }\n",
       "\n",
       "    .dataframe tbody tr th {\n",
       "        vertical-align: top;\n",
       "    }\n",
       "\n",
       "    .dataframe thead th {\n",
       "        text-align: right;\n",
       "    }\n",
       "</style>\n",
       "<table border=\"1\" class=\"dataframe\">\n",
       "  <thead>\n",
       "    <tr style=\"text-align: right;\">\n",
       "      <th></th>\n",
       "      <th>type</th>\n",
       "      <th>id</th>\n",
       "      <th>name</th>\n",
       "      <th>description</th>\n",
       "      <th>x_mitre_platforms</th>\n",
       "    </tr>\n",
       "  </thead>\n",
       "  <tbody>\n",
       "    <tr>\n",
       "      <th>0</th>\n",
       "      <td>attack-pattern</td>\n",
       "      <td>attack-pattern--3a32740a-11b0-4bcf-b0a9-3abd0f...</td>\n",
       "      <td>AutoHotKey &amp; AutoIT</td>\n",
       "      <td>Adversaries may execute commands and perform m...</td>\n",
       "      <td>[Windows]</td>\n",
       "    </tr>\n",
       "    <tr>\n",
       "      <th>1</th>\n",
       "      <td>attack-pattern</td>\n",
       "      <td>attack-pattern--09b008a9-b4eb-462a-a751-a0eb58...</td>\n",
       "      <td>File/Path Exclusions</td>\n",
       "      <td>Adversaries may attempt to hide their file-bas...</td>\n",
       "      <td>[Linux, macOS, Windows]</td>\n",
       "    </tr>\n",
       "    <tr>\n",
       "      <th>2</th>\n",
       "      <td>attack-pattern</td>\n",
       "      <td>attack-pattern--0d91b3c0-5e50-47c3-949a-2a796f...</td>\n",
       "      <td>Encrypted/Encoded File</td>\n",
       "      <td>Adversaries may encrypt or encode files to obf...</td>\n",
       "      <td>[Linux, macOS, Windows]</td>\n",
       "    </tr>\n",
       "    <tr>\n",
       "      <th>3</th>\n",
       "      <td>attack-pattern</td>\n",
       "      <td>attack-pattern--356662f7-e315-4759-86c9-6214e2...</td>\n",
       "      <td>AppDomainManager</td>\n",
       "      <td>Adversaries may execute their own malicious pa...</td>\n",
       "      <td>[Windows]</td>\n",
       "    </tr>\n",
       "    <tr>\n",
       "      <th>4</th>\n",
       "      <td>attack-pattern</td>\n",
       "      <td>attack-pattern--149b477f-f364-4824-b1b5-aa1d56...</td>\n",
       "      <td>Network Devices</td>\n",
       "      <td>Adversaries may compromise third-party network...</td>\n",
       "      <td>[PRE]</td>\n",
       "    </tr>\n",
       "  </tbody>\n",
       "</table>\n",
       "</div>"
      ]
     },
     "execution_count": 54,
     "metadata": {},
     "output_type": "execute_result"
    }
   ],
   "execution_count": 54
  },
  {
   "metadata": {
    "ExecuteTime": {
     "end_time": "2024-06-08T21:29:46.117306Z",
     "start_time": "2024-06-08T21:29:46.110591Z"
    }
   },
   "cell_type": "code",
   "source": [
    "# let's do that for all jsons recursively in MITRE folder\n",
    "import os\n",
    "import warnings\n",
    "from tqdm import tqdm\n",
    "\n",
    "def read_json_file(file_path):\n",
    "    with open(file_path) as f:\n",
    "        for line in f:\n",
    "            yield json.loads(line)\n",
    "    \n",
    "def read_all_json_files(folder_path):\n",
    "    data = []\n",
    "    for root, dirs, files in os.walk(folder_path):\n",
    "        print(f'Processing {root}')\n",
    "        for file in tqdm(files):\n",
    "            try:\n",
    "               for json_obj in read_json_file(os.path.join(root, file)):\n",
    "                   data.append(json_obj)\n",
    "            except Exception as e:\n",
    "                # warnings.warn(f'Error reading {file}: {e}')\n",
    "                continue\n",
    "    return data"
   ],
   "id": "e0c898c63303b2be",
   "outputs": [],
   "execution_count": 55
  },
  {
   "metadata": {
    "ExecuteTime": {
     "end_time": "2024-06-08T21:29:46.214785Z",
     "start_time": "2024-06-08T21:29:46.119800Z"
    }
   },
   "cell_type": "code",
   "source": "enterprise_data = read_all_json_files('/media/basic/CYBERTRON/data/MITRE/')",
   "id": "a5bc3fd0a1837cd",
   "outputs": [
    {
     "name": "stdout",
     "output_type": "stream",
     "text": [
      "Processing /media/basic/CYBERTRON/data/MITRE/\n"
     ]
    },
    {
     "name": "stderr",
     "output_type": "stream",
     "text": [
      "100%|██████████| 4/4 [00:00<00:00, 4902.75it/s]\n"
     ]
    },
    {
     "name": "stdout",
     "output_type": "stream",
     "text": [
      "Processing /media/basic/CYBERTRON/data/MITRE/enterprise_attack\n"
     ]
    },
    {
     "name": "stderr",
     "output_type": "stream",
     "text": [
      "100%|██████████| 6/6 [00:00<00:00, 144.15it/s]\n"
     ]
    },
    {
     "name": "stdout",
     "output_type": "stream",
     "text": [
      "Processing /media/basic/CYBERTRON/data/MITRE/ics_attack\n"
     ]
    },
    {
     "name": "stderr",
     "output_type": "stream",
     "text": [
      "100%|██████████| 6/6 [00:00<00:00, 758.05it/s]\n"
     ]
    },
    {
     "name": "stdout",
     "output_type": "stream",
     "text": [
      "Processing /media/basic/CYBERTRON/data/MITRE/mobile_attack\n"
     ]
    },
    {
     "name": "stderr",
     "output_type": "stream",
     "text": [
      "100%|██████████| 6/6 [00:00<00:00, 718.65it/s]\n"
     ]
    }
   ],
   "execution_count": 56
  },
  {
   "metadata": {
    "ExecuteTime": {
     "end_time": "2024-06-08T21:29:46.245667Z",
     "start_time": "2024-06-08T21:29:46.216634Z"
    }
   },
   "cell_type": "code",
   "source": [
    "# add it to a pandas dataframe\n",
    "import pandas as pd\n",
    "df = pd.DataFrame(enterprise_data)[interesting_fields]\n",
    "df.head()"
   ],
   "id": "6df1348ae65957ee",
   "outputs": [
    {
     "data": {
      "text/plain": [
       "             type                                                 id  \\\n",
       "0  attack-pattern  attack-pattern--3a32740a-11b0-4bcf-b0a9-3abd0f...   \n",
       "1  attack-pattern  attack-pattern--09b008a9-b4eb-462a-a751-a0eb58...   \n",
       "2  attack-pattern  attack-pattern--0d91b3c0-5e50-47c3-949a-2a796f...   \n",
       "3  attack-pattern  attack-pattern--356662f7-e315-4759-86c9-6214e2...   \n",
       "4  attack-pattern  attack-pattern--149b477f-f364-4824-b1b5-aa1d56...   \n",
       "\n",
       "                     name                                        description  \\\n",
       "0     AutoHotKey & AutoIT  Adversaries may execute commands and perform m...   \n",
       "1    File/Path Exclusions  Adversaries may attempt to hide their file-bas...   \n",
       "2  Encrypted/Encoded File  Adversaries may encrypt or encode files to obf...   \n",
       "3        AppDomainManager  Adversaries may execute their own malicious pa...   \n",
       "4         Network Devices  Adversaries may compromise third-party network...   \n",
       "\n",
       "         x_mitre_platforms  \n",
       "0                [Windows]  \n",
       "1  [Linux, macOS, Windows]  \n",
       "2  [Linux, macOS, Windows]  \n",
       "3                [Windows]  \n",
       "4                    [PRE]  "
      ],
      "text/html": [
       "<div>\n",
       "<style scoped>\n",
       "    .dataframe tbody tr th:only-of-type {\n",
       "        vertical-align: middle;\n",
       "    }\n",
       "\n",
       "    .dataframe tbody tr th {\n",
       "        vertical-align: top;\n",
       "    }\n",
       "\n",
       "    .dataframe thead th {\n",
       "        text-align: right;\n",
       "    }\n",
       "</style>\n",
       "<table border=\"1\" class=\"dataframe\">\n",
       "  <thead>\n",
       "    <tr style=\"text-align: right;\">\n",
       "      <th></th>\n",
       "      <th>type</th>\n",
       "      <th>id</th>\n",
       "      <th>name</th>\n",
       "      <th>description</th>\n",
       "      <th>x_mitre_platforms</th>\n",
       "    </tr>\n",
       "  </thead>\n",
       "  <tbody>\n",
       "    <tr>\n",
       "      <th>0</th>\n",
       "      <td>attack-pattern</td>\n",
       "      <td>attack-pattern--3a32740a-11b0-4bcf-b0a9-3abd0f...</td>\n",
       "      <td>AutoHotKey &amp; AutoIT</td>\n",
       "      <td>Adversaries may execute commands and perform m...</td>\n",
       "      <td>[Windows]</td>\n",
       "    </tr>\n",
       "    <tr>\n",
       "      <th>1</th>\n",
       "      <td>attack-pattern</td>\n",
       "      <td>attack-pattern--09b008a9-b4eb-462a-a751-a0eb58...</td>\n",
       "      <td>File/Path Exclusions</td>\n",
       "      <td>Adversaries may attempt to hide their file-bas...</td>\n",
       "      <td>[Linux, macOS, Windows]</td>\n",
       "    </tr>\n",
       "    <tr>\n",
       "      <th>2</th>\n",
       "      <td>attack-pattern</td>\n",
       "      <td>attack-pattern--0d91b3c0-5e50-47c3-949a-2a796f...</td>\n",
       "      <td>Encrypted/Encoded File</td>\n",
       "      <td>Adversaries may encrypt or encode files to obf...</td>\n",
       "      <td>[Linux, macOS, Windows]</td>\n",
       "    </tr>\n",
       "    <tr>\n",
       "      <th>3</th>\n",
       "      <td>attack-pattern</td>\n",
       "      <td>attack-pattern--356662f7-e315-4759-86c9-6214e2...</td>\n",
       "      <td>AppDomainManager</td>\n",
       "      <td>Adversaries may execute their own malicious pa...</td>\n",
       "      <td>[Windows]</td>\n",
       "    </tr>\n",
       "    <tr>\n",
       "      <th>4</th>\n",
       "      <td>attack-pattern</td>\n",
       "      <td>attack-pattern--149b477f-f364-4824-b1b5-aa1d56...</td>\n",
       "      <td>Network Devices</td>\n",
       "      <td>Adversaries may compromise third-party network...</td>\n",
       "      <td>[PRE]</td>\n",
       "    </tr>\n",
       "  </tbody>\n",
       "</table>\n",
       "</div>"
      ]
     },
     "execution_count": 57,
     "metadata": {},
     "output_type": "execute_result"
    }
   ],
   "execution_count": 57
  },
  {
   "metadata": {
    "ExecuteTime": {
     "end_time": "2024-06-08T21:29:46.265916Z",
     "start_time": "2024-06-08T21:29:46.247538Z"
    }
   },
   "cell_type": "code",
   "source": [
    "# drop duplicates and NaNs\n",
    "interesting_fields_minus_list = ['type', 'id', 'name', 'description']\n",
    "df[interesting_fields_minus_list].drop_duplicates()\n",
    "df = df.dropna()\n",
    "df.head()"
   ],
   "id": "d7bcee59909f96f2",
   "outputs": [
    {
     "data": {
      "text/plain": [
       "             type                                                 id  \\\n",
       "0  attack-pattern  attack-pattern--3a32740a-11b0-4bcf-b0a9-3abd0f...   \n",
       "1  attack-pattern  attack-pattern--09b008a9-b4eb-462a-a751-a0eb58...   \n",
       "2  attack-pattern  attack-pattern--0d91b3c0-5e50-47c3-949a-2a796f...   \n",
       "3  attack-pattern  attack-pattern--356662f7-e315-4759-86c9-6214e2...   \n",
       "4  attack-pattern  attack-pattern--149b477f-f364-4824-b1b5-aa1d56...   \n",
       "\n",
       "                     name                                        description  \\\n",
       "0     AutoHotKey & AutoIT  Adversaries may execute commands and perform m...   \n",
       "1    File/Path Exclusions  Adversaries may attempt to hide their file-bas...   \n",
       "2  Encrypted/Encoded File  Adversaries may encrypt or encode files to obf...   \n",
       "3        AppDomainManager  Adversaries may execute their own malicious pa...   \n",
       "4         Network Devices  Adversaries may compromise third-party network...   \n",
       "\n",
       "         x_mitre_platforms  \n",
       "0                [Windows]  \n",
       "1  [Linux, macOS, Windows]  \n",
       "2  [Linux, macOS, Windows]  \n",
       "3                [Windows]  \n",
       "4                    [PRE]  "
      ],
      "text/html": [
       "<div>\n",
       "<style scoped>\n",
       "    .dataframe tbody tr th:only-of-type {\n",
       "        vertical-align: middle;\n",
       "    }\n",
       "\n",
       "    .dataframe tbody tr th {\n",
       "        vertical-align: top;\n",
       "    }\n",
       "\n",
       "    .dataframe thead th {\n",
       "        text-align: right;\n",
       "    }\n",
       "</style>\n",
       "<table border=\"1\" class=\"dataframe\">\n",
       "  <thead>\n",
       "    <tr style=\"text-align: right;\">\n",
       "      <th></th>\n",
       "      <th>type</th>\n",
       "      <th>id</th>\n",
       "      <th>name</th>\n",
       "      <th>description</th>\n",
       "      <th>x_mitre_platforms</th>\n",
       "    </tr>\n",
       "  </thead>\n",
       "  <tbody>\n",
       "    <tr>\n",
       "      <th>0</th>\n",
       "      <td>attack-pattern</td>\n",
       "      <td>attack-pattern--3a32740a-11b0-4bcf-b0a9-3abd0f...</td>\n",
       "      <td>AutoHotKey &amp; AutoIT</td>\n",
       "      <td>Adversaries may execute commands and perform m...</td>\n",
       "      <td>[Windows]</td>\n",
       "    </tr>\n",
       "    <tr>\n",
       "      <th>1</th>\n",
       "      <td>attack-pattern</td>\n",
       "      <td>attack-pattern--09b008a9-b4eb-462a-a751-a0eb58...</td>\n",
       "      <td>File/Path Exclusions</td>\n",
       "      <td>Adversaries may attempt to hide their file-bas...</td>\n",
       "      <td>[Linux, macOS, Windows]</td>\n",
       "    </tr>\n",
       "    <tr>\n",
       "      <th>2</th>\n",
       "      <td>attack-pattern</td>\n",
       "      <td>attack-pattern--0d91b3c0-5e50-47c3-949a-2a796f...</td>\n",
       "      <td>Encrypted/Encoded File</td>\n",
       "      <td>Adversaries may encrypt or encode files to obf...</td>\n",
       "      <td>[Linux, macOS, Windows]</td>\n",
       "    </tr>\n",
       "    <tr>\n",
       "      <th>3</th>\n",
       "      <td>attack-pattern</td>\n",
       "      <td>attack-pattern--356662f7-e315-4759-86c9-6214e2...</td>\n",
       "      <td>AppDomainManager</td>\n",
       "      <td>Adversaries may execute their own malicious pa...</td>\n",
       "      <td>[Windows]</td>\n",
       "    </tr>\n",
       "    <tr>\n",
       "      <th>4</th>\n",
       "      <td>attack-pattern</td>\n",
       "      <td>attack-pattern--149b477f-f364-4824-b1b5-aa1d56...</td>\n",
       "      <td>Network Devices</td>\n",
       "      <td>Adversaries may compromise third-party network...</td>\n",
       "      <td>[PRE]</td>\n",
       "    </tr>\n",
       "  </tbody>\n",
       "</table>\n",
       "</div>"
      ]
     },
     "execution_count": 58,
     "metadata": {},
     "output_type": "execute_result"
    }
   ],
   "execution_count": 58
  },
  {
   "metadata": {
    "ExecuteTime": {
     "end_time": "2024-06-08T21:29:46.294122Z",
     "start_time": "2024-06-08T21:29:46.267362Z"
    }
   },
   "cell_type": "code",
   "source": [
    "# Handle the list fields\n",
    "df['x_mitre_platforms'] = df['x_mitre_platforms'].apply(lambda x: ' '.join(x))\n",
    "# concat the columns in a single string\n",
    "df['text'] = df[interesting_fields].apply(lambda x: ' '.join(x), axis=1)\n",
    "df.head()"
   ],
   "id": "5bd6f63c6a8c2350",
   "outputs": [
    {
     "data": {
      "text/plain": [
       "             type                                                 id  \\\n",
       "0  attack-pattern  attack-pattern--3a32740a-11b0-4bcf-b0a9-3abd0f...   \n",
       "1  attack-pattern  attack-pattern--09b008a9-b4eb-462a-a751-a0eb58...   \n",
       "2  attack-pattern  attack-pattern--0d91b3c0-5e50-47c3-949a-2a796f...   \n",
       "3  attack-pattern  attack-pattern--356662f7-e315-4759-86c9-6214e2...   \n",
       "4  attack-pattern  attack-pattern--149b477f-f364-4824-b1b5-aa1d56...   \n",
       "\n",
       "                     name                                        description  \\\n",
       "0     AutoHotKey & AutoIT  Adversaries may execute commands and perform m...   \n",
       "1    File/Path Exclusions  Adversaries may attempt to hide their file-bas...   \n",
       "2  Encrypted/Encoded File  Adversaries may encrypt or encode files to obf...   \n",
       "3        AppDomainManager  Adversaries may execute their own malicious pa...   \n",
       "4         Network Devices  Adversaries may compromise third-party network...   \n",
       "\n",
       "     x_mitre_platforms                                               text  \n",
       "0              Windows  attack-pattern attack-pattern--3a32740a-11b0-4...  \n",
       "1  Linux macOS Windows  attack-pattern attack-pattern--09b008a9-b4eb-4...  \n",
       "2  Linux macOS Windows  attack-pattern attack-pattern--0d91b3c0-5e50-4...  \n",
       "3              Windows  attack-pattern attack-pattern--356662f7-e315-4...  \n",
       "4                  PRE  attack-pattern attack-pattern--149b477f-f364-4...  "
      ],
      "text/html": [
       "<div>\n",
       "<style scoped>\n",
       "    .dataframe tbody tr th:only-of-type {\n",
       "        vertical-align: middle;\n",
       "    }\n",
       "\n",
       "    .dataframe tbody tr th {\n",
       "        vertical-align: top;\n",
       "    }\n",
       "\n",
       "    .dataframe thead th {\n",
       "        text-align: right;\n",
       "    }\n",
       "</style>\n",
       "<table border=\"1\" class=\"dataframe\">\n",
       "  <thead>\n",
       "    <tr style=\"text-align: right;\">\n",
       "      <th></th>\n",
       "      <th>type</th>\n",
       "      <th>id</th>\n",
       "      <th>name</th>\n",
       "      <th>description</th>\n",
       "      <th>x_mitre_platforms</th>\n",
       "      <th>text</th>\n",
       "    </tr>\n",
       "  </thead>\n",
       "  <tbody>\n",
       "    <tr>\n",
       "      <th>0</th>\n",
       "      <td>attack-pattern</td>\n",
       "      <td>attack-pattern--3a32740a-11b0-4bcf-b0a9-3abd0f...</td>\n",
       "      <td>AutoHotKey &amp; AutoIT</td>\n",
       "      <td>Adversaries may execute commands and perform m...</td>\n",
       "      <td>Windows</td>\n",
       "      <td>attack-pattern attack-pattern--3a32740a-11b0-4...</td>\n",
       "    </tr>\n",
       "    <tr>\n",
       "      <th>1</th>\n",
       "      <td>attack-pattern</td>\n",
       "      <td>attack-pattern--09b008a9-b4eb-462a-a751-a0eb58...</td>\n",
       "      <td>File/Path Exclusions</td>\n",
       "      <td>Adversaries may attempt to hide their file-bas...</td>\n",
       "      <td>Linux macOS Windows</td>\n",
       "      <td>attack-pattern attack-pattern--09b008a9-b4eb-4...</td>\n",
       "    </tr>\n",
       "    <tr>\n",
       "      <th>2</th>\n",
       "      <td>attack-pattern</td>\n",
       "      <td>attack-pattern--0d91b3c0-5e50-47c3-949a-2a796f...</td>\n",
       "      <td>Encrypted/Encoded File</td>\n",
       "      <td>Adversaries may encrypt or encode files to obf...</td>\n",
       "      <td>Linux macOS Windows</td>\n",
       "      <td>attack-pattern attack-pattern--0d91b3c0-5e50-4...</td>\n",
       "    </tr>\n",
       "    <tr>\n",
       "      <th>3</th>\n",
       "      <td>attack-pattern</td>\n",
       "      <td>attack-pattern--356662f7-e315-4759-86c9-6214e2...</td>\n",
       "      <td>AppDomainManager</td>\n",
       "      <td>Adversaries may execute their own malicious pa...</td>\n",
       "      <td>Windows</td>\n",
       "      <td>attack-pattern attack-pattern--356662f7-e315-4...</td>\n",
       "    </tr>\n",
       "    <tr>\n",
       "      <th>4</th>\n",
       "      <td>attack-pattern</td>\n",
       "      <td>attack-pattern--149b477f-f364-4824-b1b5-aa1d56...</td>\n",
       "      <td>Network Devices</td>\n",
       "      <td>Adversaries may compromise third-party network...</td>\n",
       "      <td>PRE</td>\n",
       "      <td>attack-pattern attack-pattern--149b477f-f364-4...</td>\n",
       "    </tr>\n",
       "  </tbody>\n",
       "</table>\n",
       "</div>"
      ]
     },
     "execution_count": 59,
     "metadata": {},
     "output_type": "execute_result"
    }
   ],
   "execution_count": 59
  },
  {
   "metadata": {
    "ExecuteTime": {
     "end_time": "2024-06-08T21:30:32.832764Z",
     "start_time": "2024-06-08T21:30:32.827598Z"
    }
   },
   "cell_type": "code",
   "source": "df['text'].iloc[0]",
   "id": "624b4ba54111f96b",
   "outputs": [
    {
     "data": {
      "text/plain": [
       "\"attack-pattern attack-pattern--3a32740a-11b0-4bcf-b0a9-3abd0f6d3cd5 AutoHotKey & AutoIT Adversaries may execute commands and perform malicious tasks using AutoIT and AutoHotKey automation scripts. AutoIT and AutoHotkey (AHK) are scripting languages that enable users to automate Windows tasks. These automation scripts can be used to perform a wide variety of actions, such as clicking on buttons, entering text, and opening and closing programs.(Citation: AutoIT)(Citation: AutoHotKey)\\n\\nAdversaries may use AHK (`.ahk`) and AutoIT (`.au3`) scripts to execute malicious code on a victim's system. For example, adversaries have used for AHK to execute payloads and other modular malware such as keyloggers. Adversaries have also used custom AHK files containing embedded malware as [Phishing](https://attack.mitre.org/techniques/T1566) payloads.(Citation: Splunk DarkGate)\\n\\nThese scripts may also be compiled into self-contained exectuable payloads (`.exe`).(Citation: AutoIT)(Citation: AutoHotKey) Windows\""
      ]
     },
     "execution_count": 60,
     "metadata": {},
     "output_type": "execute_result"
    }
   ],
   "execution_count": 60
  },
  {
   "metadata": {
    "ExecuteTime": {
     "end_time": "2024-06-08T21:35:04.373407Z",
     "start_time": "2024-06-08T21:35:04.288695Z"
    }
   },
   "cell_type": "code",
   "source": [
    "# save the dataframe\n",
    "df.to_csv('/media/basic/CYBERTRON/data/MITRE/mitre.csv', index=False)"
   ],
   "id": "3802e4b0ff0149e0",
   "outputs": [],
   "execution_count": 62
  },
  {
   "metadata": {
    "ExecuteTime": {
     "end_time": "2024-06-08T21:35:45.841306Z",
     "start_time": "2024-06-08T21:35:29.000770Z"
    }
   },
   "cell_type": "code",
   "source": [
    "import pandas as pd\n",
    "from sentence_transformers import SentenceTransformer\n",
    "import faiss\n",
    "\n",
    "# Load pre-trained model\n",
    "cache_dir = '/media/basic/CYBERTRON/models'\n",
    "sentenceTransformerModel = SentenceTransformer('sentence-transformers/all-MiniLM-L6-v2', cache_folder=cache_dir)\n",
    "\n",
    "# Example data loading (replace with your actual data loading)\n",
    "data = pd.read_csv('/media/basic/CYBERTRON/data/MITRE/mitre.csv')\n",
    "\n",
    "# Vectorize the concatenated strings\n",
    "embeddings = sentenceTransformerModel.encode(data['text'].tolist(), convert_to_numpy=True)\n",
    "\n",
    "# Create FAISS index\n",
    "index = faiss.IndexFlatL2(embeddings.shape[1])\n",
    "index.add(embeddings)\n",
    "\n",
    "# Save the FAISS index\n",
    "faiss.write_index(index, '/media/basic/CYBERTRON/data/MITRE/mitre.index')"
   ],
   "id": "a3799aa72cdfcebe",
   "outputs": [
    {
     "name": "stderr",
     "output_type": "stream",
     "text": [
      "/home/basic/miniconda3/envs/chatAi/lib/python3.11/site-packages/sentence_transformers/cross_encoder/CrossEncoder.py:11: TqdmExperimentalWarning: Using `tqdm.autonotebook.tqdm` in notebook mode. Use `tqdm.tqdm` instead to force console mode (e.g. in jupyter console)\n",
      "  from tqdm.autonotebook import tqdm, trange\n",
      "/home/basic/miniconda3/envs/chatAi/lib/python3.11/site-packages/huggingface_hub/file_download.py:1132: FutureWarning: `resume_download` is deprecated and will be removed in version 1.0.0. Downloads always resume when possible. If you want to force a new download, use `force_download=True`.\n",
      "  warnings.warn(\n"
     ]
    }
   ],
   "execution_count": 63
  },
  {
   "metadata": {
    "ExecuteTime": {
     "end_time": "2024-06-08T21:40:18.669778Z",
     "start_time": "2024-06-08T21:40:18.633575Z"
    }
   },
   "cell_type": "code",
   "source": [
    "# Load the FAISS index\n",
    "index = faiss.read_index('/media/basic/CYBERTRON/data/MITRE/mitre.index')\n",
    "\n",
    "# Query\n",
    "query = data['text'].iloc[0]\n",
    "query_embedding = sentenceTransformerModel.encode(query, convert_to_numpy=True).reshape(1, -1)\n",
    "\n",
    "# Search\n",
    "k = 5\n",
    "distances, indices = index.search(query_embedding, k)\n",
    "\n",
    "# Output\n",
    "for i in range(k):\n",
    "    print(f'Rank {i+1}: {data.iloc[indices[0][i]][\"name\"]} (distance: {distances[0][i]})')  \n",
    "    \n",
    "# Input\n",
    "print(f\"\\nQuery: {data['name'].iloc[0]}\")"
   ],
   "id": "c6cf414af553efe3",
   "outputs": [
    {
     "name": "stdout",
     "output_type": "stream",
     "text": [
      "Rank 1: AutoHotKey & AutoIT (distance: 0.0)\n",
      "Rank 2: Scripting (distance: 0.6743029356002808)\n",
      "Rank 3: Mshta (distance: 0.6994346380233765)\n",
      "Rank 4: Shortcut Modification (distance: 0.7084759473800659)\n",
      "Rank 5: Accessibility Features (distance: 0.7108378410339355)\n",
      "\n",
      "Query: AutoHotKey & AutoIT\n"
     ]
    }
   ],
   "execution_count": 72
  },
  {
   "metadata": {},
   "cell_type": "code",
   "outputs": [],
   "execution_count": null,
   "source": "",
   "id": "b53af41a828bca02"
  }
 ],
 "metadata": {
  "kernelspec": {
   "display_name": "Python 3",
   "language": "python",
   "name": "python3"
  },
  "language_info": {
   "codemirror_mode": {
    "name": "ipython",
    "version": 2
   },
   "file_extension": ".py",
   "mimetype": "text/x-python",
   "name": "python",
   "nbconvert_exporter": "python",
   "pygments_lexer": "ipython2",
   "version": "2.7.6"
  }
 },
 "nbformat": 4,
 "nbformat_minor": 5
}
